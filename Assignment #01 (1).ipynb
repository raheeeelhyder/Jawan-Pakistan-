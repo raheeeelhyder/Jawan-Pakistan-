{
 "cells": [
  {
   "cell_type": "code",
   "execution_count": 1,
   "metadata": {},
   "outputs": [
    {
     "name": "stdout",
     "output_type": "stream",
     "text": [
      "Twinkle, twinkle, little star,\n",
      "    How I wonder what you are! \n",
      "        Up above the world so high, \n",
      "        Like a diamond in the sky. \n",
      "Twinkle, twinkle, little star, \n",
      "    How I wonder what you are\n"
     ]
    }
   ],
   "source": [
    "# Question no 1: Write a Python program to print the following string in a specific format (see the output). \n",
    "print(\"Twinkle, twinkle, little star,\\n    How I wonder what you are! \\n        Up above the world so high, \\n        Like a diamond in the sky. \\nTwinkle, twinkle, little star, \\n    How I wonder what you are\") "
   ]
  },
  {
   "cell_type": "code",
   "execution_count": 2,
   "metadata": {},
   "outputs": [
    {
     "name": "stdout",
     "output_type": "stream",
     "text": [
      "3.7.6\n"
     ]
    }
   ],
   "source": [
    "# Question no 2:Write a Python program to get the Python version you are using \n",
    "from platform import python_version\n",
    "print(python_version())"
   ]
  },
  {
   "cell_type": "code",
   "execution_count": 3,
   "metadata": {},
   "outputs": [
    {
     "name": "stdout",
     "output_type": "stream",
     "text": [
      "date and time = 30/12/2021 18:18:12\n"
     ]
    }
   ],
   "source": [
    "#Question no 3: Write a Python program to display the current date and time. \n",
    "from datetime import datetime\n",
    "now = datetime.now()\n",
    "dt_string = now.strftime(\"%d/%m/%Y %H:%M:%S\")\n",
    "print(\"date and time =\", dt_string)"
   ]
  },
  {
   "cell_type": "code",
   "execution_count": 4,
   "metadata": {},
   "outputs": [
    {
     "name": "stdout",
     "output_type": "stream",
     "text": [
      "Input the radius of the circle : 12\n",
      "The area of the circle with radius 12.0 is: 452.3893421169302\n"
     ]
    }
   ],
   "source": [
    "#Question no 4: Write a Python program which accepts the radius of a circle from the user and compute the area.\n",
    "from math import pi\n",
    "r = float(input (\"Input the radius of the circle : \"))\n",
    "print (\"The area of the circle with radius \" + str(r) + \" is: \" + str(pi * r**2))"
   ]
  },
  {
   "cell_type": "code",
   "execution_count": 1,
   "metadata": {},
   "outputs": [
    {
     "name": "stdout",
     "output_type": "stream",
     "text": [
      "Input your First Name : Raheel\n",
      "Input your Last Name : Shaikh \n",
      "Hello  Shaikh  Raheel\n"
     ]
    }
   ],
   "source": [
    "#Question no 5: Write a Python program which accepts the user's first and last name and print them in reverse order with a space between them.\n",
    "fname = input(\"Input your First Name : \")\n",
    "lname = input(\"Input your Last Name : \")\n",
    "print (\"Hello  \" + lname + \" \" + fname)"
   ]
  },
  {
   "cell_type": "code",
   "execution_count": 6,
   "metadata": {},
   "outputs": [
    {
     "name": "stdout",
     "output_type": "stream",
     "text": [
      "Input your first number : 102\n",
      "Input your second number :50\n",
      "ADDITION =  152\n"
     ]
    }
   ],
   "source": [
    "#Question no 6:  Write a python program which takes two inputs from user and print them addition\n",
    "firstnum= input(\"Input your first number : \")\n",
    "secondnum= input(\"Input your second number :\")\n",
    "add = int(firstnum) + int(secondnum)\n",
    "print (\"ADDITION = \", add)"
   ]
  },
  {
   "cell_type": "code",
   "execution_count": null,
   "metadata": {},
   "outputs": [],
   "source": []
  }
 ],
 "metadata": {
  "kernelspec": {
   "display_name": "Python 3 (ipykernel)",
   "language": "python",
   "name": "python3"
  },
  "language_info": {
   "codemirror_mode": {
    "name": "ipython",
    "version": 3
   },
   "file_extension": ".py",
   "mimetype": "text/x-python",
   "name": "python",
   "nbconvert_exporter": "python",
   "pygments_lexer": "ipython3",
   "version": "3.9.7"
  }
 },
 "nbformat": 4,
 "nbformat_minor": 4
}
